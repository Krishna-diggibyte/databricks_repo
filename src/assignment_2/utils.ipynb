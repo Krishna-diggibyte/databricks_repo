{
 "cells": [
  {
   "cell_type": "code",
   "execution_count": 0,
   "metadata": {
    "application/vnd.databricks.v1+cell": {
     "cellMetadata": {
      "byteLimit": 2048000,
      "rowLimit": 10000
     },
     "inputWidgets": {},
     "nuid": "5c145da0-efa0-43d6-842b-a1e217e52dbf",
     "showTitle": true,
     "title": "installing requests module"
    }
   },
   "outputs": [
    {
     "output_type": "stream",
     "name": "stdout",
     "output_type": "stream",
     "text": [
      "Python interpreter will be restarted.\nRequirement already satisfied: requests in /databricks/python3/lib/python3.9/site-packages (2.27.1)\nRequirement already satisfied: idna<4,>=2.5 in /databricks/python3/lib/python3.9/site-packages (from requests) (3.3)\nRequirement already satisfied: charset-normalizer~=2.0.0 in /databricks/python3/lib/python3.9/site-packages (from requests) (2.0.4)\nRequirement already satisfied: urllib3<1.27,>=1.21.1 in /databricks/python3/lib/python3.9/site-packages (from requests) (1.26.9)\nRequirement already satisfied: certifi>=2017.4.17 in /databricks/python3/lib/python3.9/site-packages (from requests) (2021.10.8)\nPython interpreter will be restarted.\n"
     ]
    }
   ],
   "source": [
    "pip install requests"
   ]
  },
  {
   "cell_type": "code",
   "execution_count": 0,
   "metadata": {
    "application/vnd.databricks.v1+cell": {
     "cellMetadata": {
      "byteLimit": 2048000,
      "rowLimit": 10000
     },
     "inputWidgets": {},
     "nuid": "317db427-c8de-4756-a6fa-2aececae8f9a",
     "showTitle": true,
     "title": "import files"
    }
   },
   "outputs": [],
   "source": [
    "import requests as re\n",
    "from pyspark.sql.functions import *\n",
    "import json\n",
    "from pyspark.sql.types import *"
   ]
  },
  {
   "cell_type": "code",
   "execution_count": 0,
   "metadata": {
    "application/vnd.databricks.v1+cell": {
     "cellMetadata": {
      "byteLimit": 2048000,
      "rowLimit": 10000
     },
     "inputWidgets": {},
     "nuid": "fc3c97a2-ecee-4197-b1bb-cc48fdc802ec",
     "showTitle": true,
     "title": "get data from api"
    }
   },
   "outputs": [],
   "source": [
    "def get_from_api(api):\n",
    "    krishna=re.get(api)\n",
    "    json_krishna=krishna.json()\n",
    "    return(json_krishna)\n"
   ]
  },
  {
   "cell_type": "code",
   "execution_count": 0,
   "metadata": {
    "application/vnd.databricks.v1+cell": {
     "cellMetadata": {
      "byteLimit": 2048000,
      "rowLimit": 10000
     },
     "inputWidgets": {},
     "nuid": "8d14d85a-a3fb-4f69-9523-a921bf4c5591",
     "showTitle": true,
     "title": "creating dataframe from data and custom schema"
    }
   },
   "outputs": [],
   "source": [
    "def create_df(json_krishna,custom_schema):\n",
    "    df=spark.createDataFrame(data=[json_krishna],schema=custom_schema)\n",
    "    return df"
   ]
  },
  {
   "cell_type": "code",
   "execution_count": 0,
   "metadata": {
    "application/vnd.databricks.v1+cell": {
     "cellMetadata": {
      "byteLimit": 2048000,
      "rowLimit": 10000
     },
     "inputWidgets": {},
     "nuid": "41a9effc-5a24-49cf-a9f1-415e8a5ffef3",
     "showTitle": true,
     "title": "dropping columns"
    }
   },
   "outputs": [],
   "source": [
    "def drop_col(df):\n",
    "    df1=df.drop('page','per_page','total','total_pages','support')\n",
    "    return df1"
   ]
  },
  {
   "cell_type": "code",
   "execution_count": 0,
   "metadata": {
    "application/vnd.databricks.v1+cell": {
     "cellMetadata": {
      "byteLimit": 2048000,
      "rowLimit": 10000
     },
     "inputWidgets": {},
     "nuid": "2c1cce45-464f-41ba-af92-edfef678688e",
     "showTitle": true,
     "title": "explode array data"
    }
   },
   "outputs": [],
   "source": [
    "def explode_data(df):\n",
    "    new=df.withColumn(\"all_col\",explode('data')).drop(df['data'])\n",
    "    return new"
   ]
  },
  {
   "cell_type": "code",
   "execution_count": 0,
   "metadata": {
    "application/vnd.databricks.v1+cell": {
     "cellMetadata": {
      "byteLimit": 2048000,
      "rowLimit": 10000
     },
     "inputWidgets": {},
     "nuid": "52accd35-5594-49e9-8407-b280e5d0b8fb",
     "showTitle": true,
     "title": "flatten data"
    }
   },
   "outputs": [],
   "source": [
    "def flatten_data(df):\n",
    "    df1=df.withColumn('id',df.all_col.id).withColumn('email',df.all_col.email).withColumn('first_name',df.all_col.first_name).withColumn('last_name',df.all_col.last_name).withColumn('avatar',df.all_col.avatar).drop(df.all_col)\n",
    "    return df1\n"
   ]
  },
  {
   "cell_type": "code",
   "execution_count": 0,
   "metadata": {
    "application/vnd.databricks.v1+cell": {
     "cellMetadata": {
      "byteLimit": 2048000,
      "rowLimit": 10000
     },
     "inputWidgets": {},
     "nuid": "963f1e06-c7a2-4230-bbb2-7d92ea10cdc3",
     "showTitle": true,
     "title": "split email and use second half as site address"
    }
   },
   "outputs": [],
   "source": [
    "def spilt_email(df):\n",
    "    df1=df.withColumn(\"site_address\",split(df[\"email\"],\"@\").getItem(1))\n",
    "    return df1"
   ]
  },
  {
   "cell_type": "code",
   "execution_count": 0,
   "metadata": {
    "application/vnd.databricks.v1+cell": {
     "cellMetadata": {
      "byteLimit": 2048000,
      "rowLimit": 10000
     },
     "inputWidgets": {},
     "nuid": "5af8e4bd-1e91-4f4c-942e-9de1839eae63",
     "showTitle": true,
     "title": "add current date in df"
    }
   },
   "outputs": [],
   "source": [
    "def add_date(df):\n",
    "    df1=df.withColumn(\"load_data\",current_date())\n",
    "    return df1\n"
   ]
  },
  {
   "cell_type": "code",
   "execution_count": 0,
   "metadata": {
    "application/vnd.databricks.v1+cell": {
     "cellMetadata": {
      "byteLimit": 2048000,
      "rowLimit": 10000
     },
     "inputWidgets": {},
     "nuid": "2ff3ac13-81c0-4f6c-9852-95251ce6a44b",
     "showTitle": true,
     "title": "write df to delta file"
    }
   },
   "outputs": [],
   "source": [
    "def write_df(df,path):\n",
    "    df.write.format('delta').mode(\"overwrite\").save(path)"
   ]
  }
 ],
 "metadata": {
  "application/vnd.databricks.v1+notebook": {
   "dashboards": [],
   "language": "python",
   "notebookMetadata": {
    "pythonIndentUnit": 4
   },
   "notebookName": "utils",
   "widgets": {}
  }
 },
 "nbformat": 4,
 "nbformat_minor": 0
}
