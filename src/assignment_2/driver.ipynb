{
 "cells": [
  {
   "cell_type": "code",
   "execution_count": 0,
   "metadata": {
    "application/vnd.databricks.v1+cell": {
     "cellMetadata": {
      "byteLimit": 2048000,
      "rowLimit": 10000
     },
     "inputWidgets": {},
     "nuid": "0e365bf9-dc71-4f6e-b011-037bc9913186",
     "showTitle": true,
     "title": "calling utils"
    }
   },
   "outputs": [],
   "source": [
    "%run ./utils"
   ]
  },
  {
   "cell_type": "code",
   "execution_count": 0,
   "metadata": {
    "application/vnd.databricks.v1+cell": {
     "cellMetadata": {
      "byteLimit": 2048000,
      "rowLimit": 10000
     },
     "inputWidgets": {},
     "nuid": "d4db431b-545e-4d42-8945-3e6d6fd4f681",
     "showTitle": true,
     "title": "hitting api with get"
    }
   },
   "outputs": [],
   "source": [
    "api= 'https://reqres.in/api/users?page=2'\n",
    "\n",
    "json_krishna=get_from_api(api)"
   ]
  },
  {
   "cell_type": "code",
   "execution_count": 0,
   "metadata": {
    "application/vnd.databricks.v1+cell": {
     "cellMetadata": {
      "byteLimit": 2048000,
      "rowLimit": 10000
     },
     "inputWidgets": {},
     "nuid": "f20b4cb2-73cd-4f3a-99a8-b39566662023",
     "showTitle": true,
     "title": "defining custom schema and making df"
    }
   },
   "outputs": [
    {
     "output_type": "display_data",
     "data": {
      "text/html": [
       "<style scoped>\n",
       "  .table-result-container {\n",
       "    max-height: 300px;\n",
       "    overflow: auto;\n",
       "  }\n",
       "  table, th, td {\n",
       "    border: 1px solid black;\n",
       "    border-collapse: collapse;\n",
       "  }\n",
       "  th, td {\n",
       "    padding: 5px;\n",
       "  }\n",
       "  th {\n",
       "    text-align: left;\n",
       "  }\n",
       "</style><div class='table-result-container'><table class='table-result'><thead style='background-color: white'><tr><th>page</th><th>per_page</th><th>total</th><th>total_pages</th><th>data</th><th>support</th></tr></thead><tbody><tr><td>2</td><td>6</td><td>12</td><td>2</td><td>List(List(7, michael.lawson@reqres.in, Michael, Lawson, https://reqres.in/img/faces/7-image.jpg), List(8, lindsay.ferguson@reqres.in, Lindsay, Ferguson, https://reqres.in/img/faces/8-image.jpg), List(9, tobias.funke@reqres.in, Tobias, Funke, https://reqres.in/img/faces/9-image.jpg), List(10, byron.fields@reqres.in, Byron, Fields, https://reqres.in/img/faces/10-image.jpg), List(11, george.edwards@reqres.in, George, Edwards, https://reqres.in/img/faces/11-image.jpg), List(12, rachel.howell@reqres.in, Rachel, Howell, https://reqres.in/img/faces/12-image.jpg))</td><td>Map(url -> https://reqres.in/#support-heading, text -> To keep ReqRes free, contributions towards server costs are appreciated!)</td></tr></tbody></table></div>"
      ]
     },
     "metadata": {
      "application/vnd.databricks.v1+output": {
       "addedWidgets": {},
       "aggData": [],
       "aggError": "",
       "aggOverflow": false,
       "aggSchema": [],
       "aggSeriesLimitReached": false,
       "aggType": "",
       "arguments": {},
       "columnCustomDisplayInfos": {},
       "data": [
        [
         2,
         6,
         12,
         2,
         [
          [
           7,
           "michael.lawson@reqres.in",
           "Michael",
           "Lawson",
           "https://reqres.in/img/faces/7-image.jpg"
          ],
          [
           8,
           "lindsay.ferguson@reqres.in",
           "Lindsay",
           "Ferguson",
           "https://reqres.in/img/faces/8-image.jpg"
          ],
          [
           9,
           "tobias.funke@reqres.in",
           "Tobias",
           "Funke",
           "https://reqres.in/img/faces/9-image.jpg"
          ],
          [
           10,
           "byron.fields@reqres.in",
           "Byron",
           "Fields",
           "https://reqres.in/img/faces/10-image.jpg"
          ],
          [
           11,
           "george.edwards@reqres.in",
           "George",
           "Edwards",
           "https://reqres.in/img/faces/11-image.jpg"
          ],
          [
           12,
           "rachel.howell@reqres.in",
           "Rachel",
           "Howell",
           "https://reqres.in/img/faces/12-image.jpg"
          ]
         ],
         {
          "text": "To keep ReqRes free, contributions towards server costs are appreciated!",
          "url": "https://reqres.in/#support-heading"
         }
        ]
       ],
       "datasetInfos": [],
       "dbfsResultPath": null,
       "isJsonSchema": true,
       "metadata": {},
       "overflow": false,
       "plotOptions": {
        "customPlotOptions": {},
        "displayType": "table",
        "pivotAggregation": null,
        "pivotColumns": null,
        "xColumns": null,
        "yColumns": null
       },
       "removedWidgets": [],
       "schema": [
        {
         "metadata": "{}",
         "name": "page",
         "type": "\"integer\""
        },
        {
         "metadata": "{}",
         "name": "per_page",
         "type": "\"integer\""
        },
        {
         "metadata": "{}",
         "name": "total",
         "type": "\"integer\""
        },
        {
         "metadata": "{}",
         "name": "total_pages",
         "type": "\"integer\""
        },
        {
         "metadata": "{}",
         "name": "data",
         "type": "{\"type\":\"array\",\"elementType\":{\"type\":\"struct\",\"fields\":[{\"name\":\"id\",\"type\":\"integer\",\"nullable\":true,\"metadata\":{}},{\"name\":\"email\",\"type\":\"string\",\"nullable\":true,\"metadata\":{}},{\"name\":\"first_name\",\"type\":\"string\",\"nullable\":true,\"metadata\":{}},{\"name\":\"last_name\",\"type\":\"string\",\"nullable\":true,\"metadata\":{}},{\"name\":\"avatar\",\"type\":\"string\",\"nullable\":true,\"metadata\":{}}]},\"containsNull\":true}"
        },
        {
         "metadata": "{}",
         "name": "support",
         "type": "{\"type\":\"map\",\"keyType\":\"string\",\"valueType\":\"string\",\"valueContainsNull\":true}"
        }
       ],
       "type": "table"
      }
     },
     "output_type": "display_data"
    }
   ],
   "source": [
    "# Define the schema for the data field\n",
    "data_schema = StructType([\n",
    "    StructField(\"id\", IntegerType(), True),\n",
    "    StructField(\"email\", StringType(), True),\n",
    "    StructField(\"first_name\", StringType(), True),\n",
    "    StructField(\"last_name\", StringType(), True),\n",
    "    StructField(\"avatar\", StringType(), True)\n",
    "])\n",
    " \n",
    " \n",
    "# Define the main schema\n",
    "custom_schema = StructType([\n",
    "    StructField(\"page\", IntegerType(), True),\n",
    "    StructField(\"per_page\", IntegerType(), True),\n",
    "    StructField(\"total\", IntegerType(), True),\n",
    "    StructField(\"total_pages\", IntegerType(), True),\n",
    "    StructField(\"data\", ArrayType(data_schema), True),\n",
    "    StructField(\"support\", MapType(StringType(), StringType()), True)\n",
    "])\n",
    "\n",
    "df=create_df(json_krishna,custom_schema)\n",
    "display(df)"
   ]
  },
  {
   "cell_type": "code",
   "execution_count": 0,
   "metadata": {
    "application/vnd.databricks.v1+cell": {
     "cellMetadata": {
      "byteLimit": 2048000,
      "rowLimit": 10000
     },
     "inputWidgets": {},
     "nuid": "af4a27ef-1555-4b9b-8783-952cca5e2220",
     "showTitle": true,
     "title": "droping columns"
    }
   },
   "outputs": [
    {
     "output_type": "display_data",
     "data": {
      "text/html": [
       "<style scoped>\n",
       "  .table-result-container {\n",
       "    max-height: 300px;\n",
       "    overflow: auto;\n",
       "  }\n",
       "  table, th, td {\n",
       "    border: 1px solid black;\n",
       "    border-collapse: collapse;\n",
       "  }\n",
       "  th, td {\n",
       "    padding: 5px;\n",
       "  }\n",
       "  th {\n",
       "    text-align: left;\n",
       "  }\n",
       "</style><div class='table-result-container'><table class='table-result'><thead style='background-color: white'><tr><th>data</th></tr></thead><tbody><tr><td>List(List(7, michael.lawson@reqres.in, Michael, Lawson, https://reqres.in/img/faces/7-image.jpg), List(8, lindsay.ferguson@reqres.in, Lindsay, Ferguson, https://reqres.in/img/faces/8-image.jpg), List(9, tobias.funke@reqres.in, Tobias, Funke, https://reqres.in/img/faces/9-image.jpg), List(10, byron.fields@reqres.in, Byron, Fields, https://reqres.in/img/faces/10-image.jpg), List(11, george.edwards@reqres.in, George, Edwards, https://reqres.in/img/faces/11-image.jpg), List(12, rachel.howell@reqres.in, Rachel, Howell, https://reqres.in/img/faces/12-image.jpg))</td></tr></tbody></table></div>"
      ]
     },
     "metadata": {
      "application/vnd.databricks.v1+output": {
       "addedWidgets": {},
       "aggData": [],
       "aggError": "",
       "aggOverflow": false,
       "aggSchema": [],
       "aggSeriesLimitReached": false,
       "aggType": "",
       "arguments": {},
       "columnCustomDisplayInfos": {},
       "data": [
        [
         [
          [
           7,
           "michael.lawson@reqres.in",
           "Michael",
           "Lawson",
           "https://reqres.in/img/faces/7-image.jpg"
          ],
          [
           8,
           "lindsay.ferguson@reqres.in",
           "Lindsay",
           "Ferguson",
           "https://reqres.in/img/faces/8-image.jpg"
          ],
          [
           9,
           "tobias.funke@reqres.in",
           "Tobias",
           "Funke",
           "https://reqres.in/img/faces/9-image.jpg"
          ],
          [
           10,
           "byron.fields@reqres.in",
           "Byron",
           "Fields",
           "https://reqres.in/img/faces/10-image.jpg"
          ],
          [
           11,
           "george.edwards@reqres.in",
           "George",
           "Edwards",
           "https://reqres.in/img/faces/11-image.jpg"
          ],
          [
           12,
           "rachel.howell@reqres.in",
           "Rachel",
           "Howell",
           "https://reqres.in/img/faces/12-image.jpg"
          ]
         ]
        ]
       ],
       "datasetInfos": [],
       "dbfsResultPath": null,
       "isJsonSchema": true,
       "metadata": {},
       "overflow": false,
       "plotOptions": {
        "customPlotOptions": {},
        "displayType": "table",
        "pivotAggregation": null,
        "pivotColumns": null,
        "xColumns": null,
        "yColumns": null
       },
       "removedWidgets": [],
       "schema": [
        {
         "metadata": "{}",
         "name": "data",
         "type": "{\"type\":\"array\",\"elementType\":{\"type\":\"struct\",\"fields\":[{\"name\":\"id\",\"type\":\"integer\",\"nullable\":true,\"metadata\":{}},{\"name\":\"email\",\"type\":\"string\",\"nullable\":true,\"metadata\":{}},{\"name\":\"first_name\",\"type\":\"string\",\"nullable\":true,\"metadata\":{}},{\"name\":\"last_name\",\"type\":\"string\",\"nullable\":true,\"metadata\":{}},{\"name\":\"avatar\",\"type\":\"string\",\"nullable\":true,\"metadata\":{}}]},\"containsNull\":true}"
        }
       ],
       "type": "table"
      }
     },
     "output_type": "display_data"
    }
   ],
   "source": [
    "df1=drop_col(df)\n",
    "df1.display()"
   ]
  },
  {
   "cell_type": "code",
   "execution_count": 0,
   "metadata": {
    "application/vnd.databricks.v1+cell": {
     "cellMetadata": {
      "byteLimit": 2048000,
      "rowLimit": 10000
     },
     "inputWidgets": {},
     "nuid": "6a3f07bf-f187-45fa-85eb-a848921ca195",
     "showTitle": true,
     "title": "explode data from dataframe"
    }
   },
   "outputs": [
    {
     "output_type": "display_data",
     "data": {
      "text/html": [
       "<style scoped>\n",
       "  .table-result-container {\n",
       "    max-height: 300px;\n",
       "    overflow: auto;\n",
       "  }\n",
       "  table, th, td {\n",
       "    border: 1px solid black;\n",
       "    border-collapse: collapse;\n",
       "  }\n",
       "  th, td {\n",
       "    padding: 5px;\n",
       "  }\n",
       "  th {\n",
       "    text-align: left;\n",
       "  }\n",
       "</style><div class='table-result-container'><table class='table-result'><thead style='background-color: white'><tr><th>all_col</th></tr></thead><tbody><tr><td>List(7, michael.lawson@reqres.in, Michael, Lawson, https://reqres.in/img/faces/7-image.jpg)</td></tr><tr><td>List(8, lindsay.ferguson@reqres.in, Lindsay, Ferguson, https://reqres.in/img/faces/8-image.jpg)</td></tr><tr><td>List(9, tobias.funke@reqres.in, Tobias, Funke, https://reqres.in/img/faces/9-image.jpg)</td></tr><tr><td>List(10, byron.fields@reqres.in, Byron, Fields, https://reqres.in/img/faces/10-image.jpg)</td></tr><tr><td>List(11, george.edwards@reqres.in, George, Edwards, https://reqres.in/img/faces/11-image.jpg)</td></tr><tr><td>List(12, rachel.howell@reqres.in, Rachel, Howell, https://reqres.in/img/faces/12-image.jpg)</td></tr></tbody></table></div>"
      ]
     },
     "metadata": {
      "application/vnd.databricks.v1+output": {
       "addedWidgets": {},
       "aggData": [],
       "aggError": "",
       "aggOverflow": false,
       "aggSchema": [],
       "aggSeriesLimitReached": false,
       "aggType": "",
       "arguments": {},
       "columnCustomDisplayInfos": {},
       "data": [
        [
         [
          7,
          "michael.lawson@reqres.in",
          "Michael",
          "Lawson",
          "https://reqres.in/img/faces/7-image.jpg"
         ]
        ],
        [
         [
          8,
          "lindsay.ferguson@reqres.in",
          "Lindsay",
          "Ferguson",
          "https://reqres.in/img/faces/8-image.jpg"
         ]
        ],
        [
         [
          9,
          "tobias.funke@reqres.in",
          "Tobias",
          "Funke",
          "https://reqres.in/img/faces/9-image.jpg"
         ]
        ],
        [
         [
          10,
          "byron.fields@reqres.in",
          "Byron",
          "Fields",
          "https://reqres.in/img/faces/10-image.jpg"
         ]
        ],
        [
         [
          11,
          "george.edwards@reqres.in",
          "George",
          "Edwards",
          "https://reqres.in/img/faces/11-image.jpg"
         ]
        ],
        [
         [
          12,
          "rachel.howell@reqres.in",
          "Rachel",
          "Howell",
          "https://reqres.in/img/faces/12-image.jpg"
         ]
        ]
       ],
       "datasetInfos": [],
       "dbfsResultPath": null,
       "isJsonSchema": true,
       "metadata": {},
       "overflow": false,
       "plotOptions": {
        "customPlotOptions": {},
        "displayType": "table",
        "pivotAggregation": null,
        "pivotColumns": null,
        "xColumns": null,
        "yColumns": null
       },
       "removedWidgets": [],
       "schema": [
        {
         "metadata": "{}",
         "name": "all_col",
         "type": "{\"type\":\"struct\",\"fields\":[{\"name\":\"id\",\"type\":\"integer\",\"nullable\":true,\"metadata\":{}},{\"name\":\"email\",\"type\":\"string\",\"nullable\":true,\"metadata\":{}},{\"name\":\"first_name\",\"type\":\"string\",\"nullable\":true,\"metadata\":{}},{\"name\":\"last_name\",\"type\":\"string\",\"nullable\":true,\"metadata\":{}},{\"name\":\"avatar\",\"type\":\"string\",\"nullable\":true,\"metadata\":{}}]}"
        }
       ],
       "type": "table"
      }
     },
     "output_type": "display_data"
    }
   ],
   "source": [
    "new=explode_data(df1)\n",
    "new.display()\n",
    "# new.printSchema()"
   ]
  },
  {
   "cell_type": "code",
   "execution_count": 0,
   "metadata": {
    "application/vnd.databricks.v1+cell": {
     "cellMetadata": {
      "byteLimit": 2048000,
      "rowLimit": 10000
     },
     "inputWidgets": {},
     "nuid": "7227f5c5-8bce-4fff-81de-d2e8d135dbeb",
     "showTitle": true,
     "title": "flatten api data"
    }
   },
   "outputs": [
    {
     "output_type": "display_data",
     "data": {
      "text/html": [
       "<style scoped>\n",
       "  .table-result-container {\n",
       "    max-height: 300px;\n",
       "    overflow: auto;\n",
       "  }\n",
       "  table, th, td {\n",
       "    border: 1px solid black;\n",
       "    border-collapse: collapse;\n",
       "  }\n",
       "  th, td {\n",
       "    padding: 5px;\n",
       "  }\n",
       "  th {\n",
       "    text-align: left;\n",
       "  }\n",
       "</style><div class='table-result-container'><table class='table-result'><thead style='background-color: white'><tr><th>id</th><th>email</th><th>first_name</th><th>last_name</th><th>avatar</th></tr></thead><tbody><tr><td>7</td><td>michael.lawson@reqres.in</td><td>Michael</td><td>Lawson</td><td>https://reqres.in/img/faces/7-image.jpg</td></tr><tr><td>8</td><td>lindsay.ferguson@reqres.in</td><td>Lindsay</td><td>Ferguson</td><td>https://reqres.in/img/faces/8-image.jpg</td></tr><tr><td>9</td><td>tobias.funke@reqres.in</td><td>Tobias</td><td>Funke</td><td>https://reqres.in/img/faces/9-image.jpg</td></tr><tr><td>10</td><td>byron.fields@reqres.in</td><td>Byron</td><td>Fields</td><td>https://reqres.in/img/faces/10-image.jpg</td></tr><tr><td>11</td><td>george.edwards@reqres.in</td><td>George</td><td>Edwards</td><td>https://reqres.in/img/faces/11-image.jpg</td></tr><tr><td>12</td><td>rachel.howell@reqres.in</td><td>Rachel</td><td>Howell</td><td>https://reqres.in/img/faces/12-image.jpg</td></tr></tbody></table></div>"
      ]
     },
     "metadata": {
      "application/vnd.databricks.v1+output": {
       "addedWidgets": {},
       "aggData": [],
       "aggError": "",
       "aggOverflow": false,
       "aggSchema": [],
       "aggSeriesLimitReached": false,
       "aggType": "",
       "arguments": {},
       "columnCustomDisplayInfos": {},
       "data": [
        [
         7,
         "michael.lawson@reqres.in",
         "Michael",
         "Lawson",
         "https://reqres.in/img/faces/7-image.jpg"
        ],
        [
         8,
         "lindsay.ferguson@reqres.in",
         "Lindsay",
         "Ferguson",
         "https://reqres.in/img/faces/8-image.jpg"
        ],
        [
         9,
         "tobias.funke@reqres.in",
         "Tobias",
         "Funke",
         "https://reqres.in/img/faces/9-image.jpg"
        ],
        [
         10,
         "byron.fields@reqres.in",
         "Byron",
         "Fields",
         "https://reqres.in/img/faces/10-image.jpg"
        ],
        [
         11,
         "george.edwards@reqres.in",
         "George",
         "Edwards",
         "https://reqres.in/img/faces/11-image.jpg"
        ],
        [
         12,
         "rachel.howell@reqres.in",
         "Rachel",
         "Howell",
         "https://reqres.in/img/faces/12-image.jpg"
        ]
       ],
       "datasetInfos": [],
       "dbfsResultPath": null,
       "isJsonSchema": true,
       "metadata": {},
       "overflow": false,
       "plotOptions": {
        "customPlotOptions": {},
        "displayType": "table",
        "pivotAggregation": null,
        "pivotColumns": null,
        "xColumns": null,
        "yColumns": null
       },
       "removedWidgets": [],
       "schema": [
        {
         "metadata": "{}",
         "name": "id",
         "type": "\"integer\""
        },
        {
         "metadata": "{}",
         "name": "email",
         "type": "\"string\""
        },
        {
         "metadata": "{}",
         "name": "first_name",
         "type": "\"string\""
        },
        {
         "metadata": "{}",
         "name": "last_name",
         "type": "\"string\""
        },
        {
         "metadata": "{}",
         "name": "avatar",
         "type": "\"string\""
        }
       ],
       "type": "table"
      }
     },
     "output_type": "display_data"
    }
   ],
   "source": [
    "flat_df=flatten_data(new)\n",
    "display(flat_df)"
   ]
  },
  {
   "cell_type": "code",
   "execution_count": 0,
   "metadata": {
    "application/vnd.databricks.v1+cell": {
     "cellMetadata": {
      "byteLimit": 2048000,
      "rowLimit": 10000
     },
     "inputWidgets": {},
     "nuid": "48b99fe7-568e-44f6-a863-4a84d0fbc2b8",
     "showTitle": true,
     "title": "split email and extract site address"
    }
   },
   "outputs": [
    {
     "output_type": "display_data",
     "data": {
      "text/html": [
       "<style scoped>\n",
       "  .table-result-container {\n",
       "    max-height: 300px;\n",
       "    overflow: auto;\n",
       "  }\n",
       "  table, th, td {\n",
       "    border: 1px solid black;\n",
       "    border-collapse: collapse;\n",
       "  }\n",
       "  th, td {\n",
       "    padding: 5px;\n",
       "  }\n",
       "  th {\n",
       "    text-align: left;\n",
       "  }\n",
       "</style><div class='table-result-container'><table class='table-result'><thead style='background-color: white'><tr><th>id</th><th>email</th><th>first_name</th><th>last_name</th><th>avatar</th><th>site_address</th></tr></thead><tbody><tr><td>7</td><td>michael.lawson@reqres.in</td><td>Michael</td><td>Lawson</td><td>https://reqres.in/img/faces/7-image.jpg</td><td>reqres.in</td></tr><tr><td>8</td><td>lindsay.ferguson@reqres.in</td><td>Lindsay</td><td>Ferguson</td><td>https://reqres.in/img/faces/8-image.jpg</td><td>reqres.in</td></tr><tr><td>9</td><td>tobias.funke@reqres.in</td><td>Tobias</td><td>Funke</td><td>https://reqres.in/img/faces/9-image.jpg</td><td>reqres.in</td></tr><tr><td>10</td><td>byron.fields@reqres.in</td><td>Byron</td><td>Fields</td><td>https://reqres.in/img/faces/10-image.jpg</td><td>reqres.in</td></tr><tr><td>11</td><td>george.edwards@reqres.in</td><td>George</td><td>Edwards</td><td>https://reqres.in/img/faces/11-image.jpg</td><td>reqres.in</td></tr><tr><td>12</td><td>rachel.howell@reqres.in</td><td>Rachel</td><td>Howell</td><td>https://reqres.in/img/faces/12-image.jpg</td><td>reqres.in</td></tr></tbody></table></div>"
      ]
     },
     "metadata": {
      "application/vnd.databricks.v1+output": {
       "addedWidgets": {},
       "aggData": [],
       "aggError": "",
       "aggOverflow": false,
       "aggSchema": [],
       "aggSeriesLimitReached": false,
       "aggType": "",
       "arguments": {},
       "columnCustomDisplayInfos": {},
       "data": [
        [
         7,
         "michael.lawson@reqres.in",
         "Michael",
         "Lawson",
         "https://reqres.in/img/faces/7-image.jpg",
         "reqres.in"
        ],
        [
         8,
         "lindsay.ferguson@reqres.in",
         "Lindsay",
         "Ferguson",
         "https://reqres.in/img/faces/8-image.jpg",
         "reqres.in"
        ],
        [
         9,
         "tobias.funke@reqres.in",
         "Tobias",
         "Funke",
         "https://reqres.in/img/faces/9-image.jpg",
         "reqres.in"
        ],
        [
         10,
         "byron.fields@reqres.in",
         "Byron",
         "Fields",
         "https://reqres.in/img/faces/10-image.jpg",
         "reqres.in"
        ],
        [
         11,
         "george.edwards@reqres.in",
         "George",
         "Edwards",
         "https://reqres.in/img/faces/11-image.jpg",
         "reqres.in"
        ],
        [
         12,
         "rachel.howell@reqres.in",
         "Rachel",
         "Howell",
         "https://reqres.in/img/faces/12-image.jpg",
         "reqres.in"
        ]
       ],
       "datasetInfos": [],
       "dbfsResultPath": null,
       "isJsonSchema": true,
       "metadata": {},
       "overflow": false,
       "plotOptions": {
        "customPlotOptions": {},
        "displayType": "table",
        "pivotAggregation": null,
        "pivotColumns": null,
        "xColumns": null,
        "yColumns": null
       },
       "removedWidgets": [],
       "schema": [
        {
         "metadata": "{}",
         "name": "id",
         "type": "\"integer\""
        },
        {
         "metadata": "{}",
         "name": "email",
         "type": "\"string\""
        },
        {
         "metadata": "{}",
         "name": "first_name",
         "type": "\"string\""
        },
        {
         "metadata": "{}",
         "name": "last_name",
         "type": "\"string\""
        },
        {
         "metadata": "{}",
         "name": "avatar",
         "type": "\"string\""
        },
        {
         "metadata": "{}",
         "name": "site_address",
         "type": "\"string\""
        }
       ],
       "type": "table"
      }
     },
     "output_type": "display_data"
    }
   ],
   "source": [
    "new_flat_df=spilt_email(flat_df)\n",
    "display(new_flat_df)"
   ]
  },
  {
   "cell_type": "code",
   "execution_count": 0,
   "metadata": {
    "application/vnd.databricks.v1+cell": {
     "cellMetadata": {
      "byteLimit": 2048000,
      "rowLimit": 10000
     },
     "inputWidgets": {},
     "nuid": "c88c12a0-83eb-48c4-bc54-da060bd45aad",
     "showTitle": true,
     "title": "add curunt date in table"
    }
   },
   "outputs": [
    {
     "output_type": "display_data",
     "data": {
      "text/html": [
       "<style scoped>\n",
       "  .table-result-container {\n",
       "    max-height: 300px;\n",
       "    overflow: auto;\n",
       "  }\n",
       "  table, th, td {\n",
       "    border: 1px solid black;\n",
       "    border-collapse: collapse;\n",
       "  }\n",
       "  th, td {\n",
       "    padding: 5px;\n",
       "  }\n",
       "  th {\n",
       "    text-align: left;\n",
       "  }\n",
       "</style><div class='table-result-container'><table class='table-result'><thead style='background-color: white'><tr><th>id</th><th>email</th><th>first_name</th><th>last_name</th><th>avatar</th><th>site_address</th><th>load_data</th></tr></thead><tbody><tr><td>7</td><td>michael.lawson@reqres.in</td><td>Michael</td><td>Lawson</td><td>https://reqres.in/img/faces/7-image.jpg</td><td>reqres.in</td><td>2024-04-16</td></tr><tr><td>8</td><td>lindsay.ferguson@reqres.in</td><td>Lindsay</td><td>Ferguson</td><td>https://reqres.in/img/faces/8-image.jpg</td><td>reqres.in</td><td>2024-04-16</td></tr><tr><td>9</td><td>tobias.funke@reqres.in</td><td>Tobias</td><td>Funke</td><td>https://reqres.in/img/faces/9-image.jpg</td><td>reqres.in</td><td>2024-04-16</td></tr><tr><td>10</td><td>byron.fields@reqres.in</td><td>Byron</td><td>Fields</td><td>https://reqres.in/img/faces/10-image.jpg</td><td>reqres.in</td><td>2024-04-16</td></tr><tr><td>11</td><td>george.edwards@reqres.in</td><td>George</td><td>Edwards</td><td>https://reqres.in/img/faces/11-image.jpg</td><td>reqres.in</td><td>2024-04-16</td></tr><tr><td>12</td><td>rachel.howell@reqres.in</td><td>Rachel</td><td>Howell</td><td>https://reqres.in/img/faces/12-image.jpg</td><td>reqres.in</td><td>2024-04-16</td></tr></tbody></table></div>"
      ]
     },
     "metadata": {
      "application/vnd.databricks.v1+output": {
       "addedWidgets": {},
       "aggData": [],
       "aggError": "",
       "aggOverflow": false,
       "aggSchema": [],
       "aggSeriesLimitReached": false,
       "aggType": "",
       "arguments": {},
       "columnCustomDisplayInfos": {},
       "data": [
        [
         7,
         "michael.lawson@reqres.in",
         "Michael",
         "Lawson",
         "https://reqres.in/img/faces/7-image.jpg",
         "reqres.in",
         "2024-04-16"
        ],
        [
         8,
         "lindsay.ferguson@reqres.in",
         "Lindsay",
         "Ferguson",
         "https://reqres.in/img/faces/8-image.jpg",
         "reqres.in",
         "2024-04-16"
        ],
        [
         9,
         "tobias.funke@reqres.in",
         "Tobias",
         "Funke",
         "https://reqres.in/img/faces/9-image.jpg",
         "reqres.in",
         "2024-04-16"
        ],
        [
         10,
         "byron.fields@reqres.in",
         "Byron",
         "Fields",
         "https://reqres.in/img/faces/10-image.jpg",
         "reqres.in",
         "2024-04-16"
        ],
        [
         11,
         "george.edwards@reqres.in",
         "George",
         "Edwards",
         "https://reqres.in/img/faces/11-image.jpg",
         "reqres.in",
         "2024-04-16"
        ],
        [
         12,
         "rachel.howell@reqres.in",
         "Rachel",
         "Howell",
         "https://reqres.in/img/faces/12-image.jpg",
         "reqres.in",
         "2024-04-16"
        ]
       ],
       "datasetInfos": [],
       "dbfsResultPath": null,
       "isJsonSchema": true,
       "metadata": {},
       "overflow": false,
       "plotOptions": {
        "customPlotOptions": {},
        "displayType": "table",
        "pivotAggregation": null,
        "pivotColumns": null,
        "xColumns": null,
        "yColumns": null
       },
       "removedWidgets": [],
       "schema": [
        {
         "metadata": "{}",
         "name": "id",
         "type": "\"integer\""
        },
        {
         "metadata": "{}",
         "name": "email",
         "type": "\"string\""
        },
        {
         "metadata": "{}",
         "name": "first_name",
         "type": "\"string\""
        },
        {
         "metadata": "{}",
         "name": "last_name",
         "type": "\"string\""
        },
        {
         "metadata": "{}",
         "name": "avatar",
         "type": "\"string\""
        },
        {
         "metadata": "{}",
         "name": "site_address",
         "type": "\"string\""
        },
        {
         "metadata": "{}",
         "name": "load_data",
         "type": "\"date\""
        }
       ],
       "type": "table"
      }
     },
     "output_type": "display_data"
    }
   ],
   "source": [
    "new_df_date=add_date(new_flat_df)\n",
    "display(new_df_date)"
   ]
  },
  {
   "cell_type": "code",
   "execution_count": 0,
   "metadata": {
    "application/vnd.databricks.v1+cell": {
     "cellMetadata": {
      "byteLimit": 2048000,
      "rowLimit": 10000
     },
     "inputWidgets": {},
     "nuid": "e4cb43e5-7582-45a2-bbe3-2d88cb10ff08",
     "showTitle": true,
     "title": "write df to delta table"
    }
   },
   "outputs": [
    {
     "output_type": "display_data",
     "data": {
      "text/html": [
       "<style scoped>\n",
       "  .table-result-container {\n",
       "    max-height: 300px;\n",
       "    overflow: auto;\n",
       "  }\n",
       "  table, th, td {\n",
       "    border: 1px solid black;\n",
       "    border-collapse: collapse;\n",
       "  }\n",
       "  th, td {\n",
       "    padding: 5px;\n",
       "  }\n",
       "  th {\n",
       "    text-align: left;\n",
       "  }\n",
       "</style><div class='table-result-container'><table class='table-result'><thead style='background-color: white'><tr><th>id</th><th>email</th><th>first_name</th><th>last_name</th><th>avatar</th><th>site_address</th><th>load_data</th></tr></thead><tbody><tr><td>7</td><td>michael.lawson@reqres.in</td><td>Michael</td><td>Lawson</td><td>https://reqres.in/img/faces/7-image.jpg</td><td>reqres.in</td><td>2024-04-16</td></tr><tr><td>8</td><td>lindsay.ferguson@reqres.in</td><td>Lindsay</td><td>Ferguson</td><td>https://reqres.in/img/faces/8-image.jpg</td><td>reqres.in</td><td>2024-04-16</td></tr><tr><td>9</td><td>tobias.funke@reqres.in</td><td>Tobias</td><td>Funke</td><td>https://reqres.in/img/faces/9-image.jpg</td><td>reqres.in</td><td>2024-04-16</td></tr><tr><td>10</td><td>byron.fields@reqres.in</td><td>Byron</td><td>Fields</td><td>https://reqres.in/img/faces/10-image.jpg</td><td>reqres.in</td><td>2024-04-16</td></tr><tr><td>11</td><td>george.edwards@reqres.in</td><td>George</td><td>Edwards</td><td>https://reqres.in/img/faces/11-image.jpg</td><td>reqres.in</td><td>2024-04-16</td></tr><tr><td>12</td><td>rachel.howell@reqres.in</td><td>Rachel</td><td>Howell</td><td>https://reqres.in/img/faces/12-image.jpg</td><td>reqres.in</td><td>2024-04-16</td></tr></tbody></table></div>"
      ]
     },
     "metadata": {
      "application/vnd.databricks.v1+output": {
       "addedWidgets": {},
       "aggData": [],
       "aggError": "",
       "aggOverflow": false,
       "aggSchema": [],
       "aggSeriesLimitReached": false,
       "aggType": "",
       "arguments": {},
       "columnCustomDisplayInfos": {},
       "data": [
        [
         7,
         "michael.lawson@reqres.in",
         "Michael",
         "Lawson",
         "https://reqres.in/img/faces/7-image.jpg",
         "reqres.in",
         "2024-04-16"
        ],
        [
         8,
         "lindsay.ferguson@reqres.in",
         "Lindsay",
         "Ferguson",
         "https://reqres.in/img/faces/8-image.jpg",
         "reqres.in",
         "2024-04-16"
        ],
        [
         9,
         "tobias.funke@reqres.in",
         "Tobias",
         "Funke",
         "https://reqres.in/img/faces/9-image.jpg",
         "reqres.in",
         "2024-04-16"
        ],
        [
         10,
         "byron.fields@reqres.in",
         "Byron",
         "Fields",
         "https://reqres.in/img/faces/10-image.jpg",
         "reqres.in",
         "2024-04-16"
        ],
        [
         11,
         "george.edwards@reqres.in",
         "George",
         "Edwards",
         "https://reqres.in/img/faces/11-image.jpg",
         "reqres.in",
         "2024-04-16"
        ],
        [
         12,
         "rachel.howell@reqres.in",
         "Rachel",
         "Howell",
         "https://reqres.in/img/faces/12-image.jpg",
         "reqres.in",
         "2024-04-16"
        ]
       ],
       "datasetInfos": [],
       "dbfsResultPath": null,
       "isJsonSchema": true,
       "metadata": {},
       "overflow": false,
       "plotOptions": {
        "customPlotOptions": {},
        "displayType": "table",
        "pivotAggregation": null,
        "pivotColumns": null,
        "xColumns": null,
        "yColumns": null
       },
       "removedWidgets": [],
       "schema": [
        {
         "metadata": "{}",
         "name": "id",
         "type": "\"integer\""
        },
        {
         "metadata": "{}",
         "name": "email",
         "type": "\"string\""
        },
        {
         "metadata": "{}",
         "name": "first_name",
         "type": "\"string\""
        },
        {
         "metadata": "{}",
         "name": "last_name",
         "type": "\"string\""
        },
        {
         "metadata": "{}",
         "name": "avatar",
         "type": "\"string\""
        },
        {
         "metadata": "{}",
         "name": "site_address",
         "type": "\"string\""
        },
        {
         "metadata": "{}",
         "name": "load_data",
         "type": "\"date\""
        }
       ],
       "type": "table"
      }
     },
     "output_type": "display_data"
    }
   ],
   "source": [
    "db_name = 'site_info'\n",
    "table_name = 'person_info'\n",
    "path=f\"dbfs:/FileStore/assignments/assign_2/{db_name}/{table_name}\"\n",
    "\n",
    "write_df(new_df_date,path)\n",
    "\n",
    "display(spark.read.format('delta').load(path))"
   ]
  }
 ],
 "metadata": {
  "application/vnd.databricks.v1+notebook": {
   "dashboards": [],
   "language": "python",
   "notebookMetadata": {
    "mostRecentlyExecutedCommandWithImplicitDF": {
     "commandId": 4319793969662278,
     "dataframes": [
      "_sqldf"
     ]
    },
    "pythonIndentUnit": 4
   },
   "notebookName": "driver",
   "widgets": {}
  }
 },
 "nbformat": 4,
 "nbformat_minor": 0
}
