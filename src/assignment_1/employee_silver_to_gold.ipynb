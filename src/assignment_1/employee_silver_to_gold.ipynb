{
 "cells": [
  {
   "cell_type": "code",
   "execution_count": 0,
   "metadata": {
    "application/vnd.databricks.v1+cell": {
     "cellMetadata": {
      "byteLimit": 2048000,
      "rowLimit": 10000
     },
     "inputWidgets": {},
     "nuid": "a90ce4ca-8196-4999-bc28-5bf267d93e2c",
     "showTitle": true,
     "title": "call utils file"
    }
   },
   "outputs": [],
   "source": [
    "%run ../source_to_bronze/utils"
   ]
  },
  {
   "cell_type": "code",
   "execution_count": 0,
   "metadata": {
    "application/vnd.databricks.v1+cell": {
     "cellMetadata": {
      "byteLimit": 2048000,
      "rowLimit": 10000
     },
     "inputWidgets": {},
     "nuid": "0a3876c6-d588-4c96-93f5-d8f047b31792",
     "showTitle": false,
     "title": ""
    }
   },
   "outputs": [
    {
     "output_type": "display_data",
     "data": {
      "text/html": [
       "<style scoped>\n",
       "  .table-result-container {\n",
       "    max-height: 300px;\n",
       "    overflow: auto;\n",
       "  }\n",
       "  table, th, td {\n",
       "    border: 1px solid black;\n",
       "    border-collapse: collapse;\n",
       "  }\n",
       "  th, td {\n",
       "    padding: 5px;\n",
       "  }\n",
       "  th {\n",
       "    text-align: left;\n",
       "  }\n",
       "</style><div class='table-result-container'><table class='table-result'><thead style='background-color: white'><tr><th>employee_id</th><th>employee_name</th><th>department</th><th>country</th><th>salary</th><th>age</th></tr></thead><tbody><tr><td>1</td><td>James</td><td>D101</td><td>IN</td><td>9000</td><td>25</td></tr><tr><td>2</td><td>Michel</td><td>D102</td><td>SA</td><td>8000</td><td>26</td></tr><tr><td>3</td><td>James son</td><td>D101</td><td>IN</td><td>10000</td><td>35</td></tr><tr><td>4</td><td>Robert</td><td>D103</td><td>MY</td><td>11000</td><td>34</td></tr><tr><td>5</td><td>Scott</td><td>D104</td><td>MA</td><td>6000</td><td>36</td></tr><tr><td>6</td><td>Gen</td><td>D105</td><td>JA</td><td>21345</td><td>24</td></tr><tr><td>7</td><td>John</td><td>D102</td><td>MY</td><td>87654</td><td>40</td></tr><tr><td>8</td><td>Maria</td><td>D105</td><td>SA</td><td>38144</td><td>38</td></tr><tr><td>9</td><td>Soffy</td><td>D103</td><td>IN</td><td>23456</td><td>29</td></tr><tr><td>10</td><td>Amy</td><td>D103</td><td>CN</td><td>21345</td><td>24</td></tr></tbody></table></div>"
      ]
     },
     "metadata": {
      "application/vnd.databricks.v1+output": {
       "addedWidgets": {},
       "aggData": [],
       "aggError": "",
       "aggOverflow": false,
       "aggSchema": [],
       "aggSeriesLimitReached": false,
       "aggType": "",
       "arguments": {},
       "columnCustomDisplayInfos": {},
       "data": [
        [
         1,
         "James",
         "D101",
         "IN",
         9000,
         25
        ],
        [
         2,
         "Michel",
         "D102",
         "SA",
         8000,
         26
        ],
        [
         3,
         "James son",
         "D101",
         "IN",
         10000,
         35
        ],
        [
         4,
         "Robert",
         "D103",
         "MY",
         11000,
         34
        ],
        [
         5,
         "Scott",
         "D104",
         "MA",
         6000,
         36
        ],
        [
         6,
         "Gen",
         "D105",
         "JA",
         21345,
         24
        ],
        [
         7,
         "John",
         "D102",
         "MY",
         87654,
         40
        ],
        [
         8,
         "Maria",
         "D105",
         "SA",
         38144,
         38
        ],
        [
         9,
         "Soffy",
         "D103",
         "IN",
         23456,
         29
        ],
        [
         10,
         "Amy",
         "D103",
         "CN",
         21345,
         24
        ]
       ],
       "datasetInfos": [],
       "dbfsResultPath": null,
       "isJsonSchema": true,
       "metadata": {},
       "overflow": false,
       "plotOptions": {
        "customPlotOptions": {},
        "displayType": "table",
        "pivotAggregation": null,
        "pivotColumns": null,
        "xColumns": null,
        "yColumns": null
       },
       "removedWidgets": [],
       "schema": [
        {
         "metadata": "{}",
         "name": "employee_id",
         "type": "\"integer\""
        },
        {
         "metadata": "{}",
         "name": "employee_name",
         "type": "\"string\""
        },
        {
         "metadata": "{}",
         "name": "department",
         "type": "\"string\""
        },
        {
         "metadata": "{}",
         "name": "country",
         "type": "\"string\""
        },
        {
         "metadata": "{}",
         "name": "salary",
         "type": "\"integer\""
        },
        {
         "metadata": "{}",
         "name": "age",
         "type": "\"integer\""
        }
       ],
       "type": "table"
      }
     },
     "output_type": "display_data"
    }
   ],
   "source": [
    "db_name=\"employee_info\"\n",
    "table_name=\"dim_employee\"\n",
    "path=f\"dbfs:/FileStore/assignments/assign_1/silver/{db_name}/{table_name}\"\n",
    "delta_df = read_delta(path)\n",
    "display(delta_df)"
   ]
  },
  {
   "cell_type": "code",
   "execution_count": 0,
   "metadata": {
    "application/vnd.databricks.v1+cell": {
     "cellMetadata": {
      "byteLimit": 2048000,
      "rowLimit": 10000
     },
     "inputWidgets": {},
     "nuid": "9009792b-94c4-447a-b93f-554e2aa578b1",
     "showTitle": true,
     "title": "·display salary of each department in descending order."
    }
   },
   "outputs": [
    {
     "output_type": "display_data",
     "data": {
      "text/html": [
       "<style scoped>\n",
       "  .table-result-container {\n",
       "    max-height: 300px;\n",
       "    overflow: auto;\n",
       "  }\n",
       "  table, th, td {\n",
       "    border: 1px solid black;\n",
       "    border-collapse: collapse;\n",
       "  }\n",
       "  th, td {\n",
       "    padding: 5px;\n",
       "  }\n",
       "  th {\n",
       "    text-align: left;\n",
       "  }\n",
       "</style><div class='table-result-container'><table class='table-result'><thead style='background-color: white'><tr><th>employee_id</th><th>employee_name</th><th>department</th><th>country</th><th>salary</th><th>age</th><th>rank</th></tr></thead><tbody><tr><td>1</td><td>James</td><td>D101</td><td>IN</td><td>9000</td><td>25</td><td>1</td></tr><tr><td>3</td><td>James son</td><td>D101</td><td>IN</td><td>10000</td><td>35</td><td>2</td></tr><tr><td>2</td><td>Michel</td><td>D102</td><td>SA</td><td>8000</td><td>26</td><td>1</td></tr><tr><td>7</td><td>John</td><td>D102</td><td>MY</td><td>87654</td><td>40</td><td>2</td></tr><tr><td>4</td><td>Robert</td><td>D103</td><td>MY</td><td>11000</td><td>34</td><td>1</td></tr><tr><td>10</td><td>Amy</td><td>D103</td><td>CN</td><td>21345</td><td>24</td><td>2</td></tr><tr><td>9</td><td>Soffy</td><td>D103</td><td>IN</td><td>23456</td><td>29</td><td>3</td></tr><tr><td>5</td><td>Scott</td><td>D104</td><td>MA</td><td>6000</td><td>36</td><td>1</td></tr><tr><td>6</td><td>Gen</td><td>D105</td><td>JA</td><td>21345</td><td>24</td><td>1</td></tr><tr><td>8</td><td>Maria</td><td>D105</td><td>SA</td><td>38144</td><td>38</td><td>2</td></tr></tbody></table></div>"
      ]
     },
     "metadata": {
      "application/vnd.databricks.v1+output": {
       "addedWidgets": {},
       "aggData": [],
       "aggError": "",
       "aggOverflow": false,
       "aggSchema": [],
       "aggSeriesLimitReached": false,
       "aggType": "",
       "arguments": {},
       "columnCustomDisplayInfos": {},
       "data": [
        [
         1,
         "James",
         "D101",
         "IN",
         9000,
         25,
         1
        ],
        [
         3,
         "James son",
         "D101",
         "IN",
         10000,
         35,
         2
        ],
        [
         2,
         "Michel",
         "D102",
         "SA",
         8000,
         26,
         1
        ],
        [
         7,
         "John",
         "D102",
         "MY",
         87654,
         40,
         2
        ],
        [
         4,
         "Robert",
         "D103",
         "MY",
         11000,
         34,
         1
        ],
        [
         10,
         "Amy",
         "D103",
         "CN",
         21345,
         24,
         2
        ],
        [
         9,
         "Soffy",
         "D103",
         "IN",
         23456,
         29,
         3
        ],
        [
         5,
         "Scott",
         "D104",
         "MA",
         6000,
         36,
         1
        ],
        [
         6,
         "Gen",
         "D105",
         "JA",
         21345,
         24,
         1
        ],
        [
         8,
         "Maria",
         "D105",
         "SA",
         38144,
         38,
         2
        ]
       ],
       "datasetInfos": [],
       "dbfsResultPath": null,
       "isJsonSchema": true,
       "metadata": {},
       "overflow": false,
       "plotOptions": {
        "customPlotOptions": {},
        "displayType": "table",
        "pivotAggregation": null,
        "pivotColumns": null,
        "xColumns": null,
        "yColumns": null
       },
       "removedWidgets": [],
       "schema": [
        {
         "metadata": "{}",
         "name": "employee_id",
         "type": "\"integer\""
        },
        {
         "metadata": "{}",
         "name": "employee_name",
         "type": "\"string\""
        },
        {
         "metadata": "{}",
         "name": "department",
         "type": "\"string\""
        },
        {
         "metadata": "{}",
         "name": "country",
         "type": "\"string\""
        },
        {
         "metadata": "{}",
         "name": "salary",
         "type": "\"integer\""
        },
        {
         "metadata": "{}",
         "name": "age",
         "type": "\"integer\""
        },
        {
         "metadata": "{}",
         "name": "rank",
         "type": "\"integer\""
        }
       ],
       "type": "table"
      }
     },
     "output_type": "display_data"
    }
   ],
   "source": [
    "display(find_sal_dep(delta_df))"
   ]
  },
  {
   "cell_type": "code",
   "execution_count": 0,
   "metadata": {
    "application/vnd.databricks.v1+cell": {
     "cellMetadata": {
      "byteLimit": 2048000,
      "rowLimit": 10000
     },
     "inputWidgets": {},
     "nuid": "11f0886f-1c1e-49ed-8326-b988beea29a2",
     "showTitle": true,
     "title": "number of employees in each department located in each country"
    }
   },
   "outputs": [
    {
     "output_type": "display_data",
     "data": {
      "text/html": [
       "<style scoped>\n",
       "  .table-result-container {\n",
       "    max-height: 300px;\n",
       "    overflow: auto;\n",
       "  }\n",
       "  table, th, td {\n",
       "    border: 1px solid black;\n",
       "    border-collapse: collapse;\n",
       "  }\n",
       "  th, td {\n",
       "    padding: 5px;\n",
       "  }\n",
       "  th {\n",
       "    text-align: left;\n",
       "  }\n",
       "</style><div class='table-result-container'><table class='table-result'><thead style='background-color: white'><tr><th>country</th><th>count</th></tr></thead><tbody><tr><td>CN</td><td>1</td></tr><tr><td>SA</td><td>2</td></tr><tr><td>MY</td><td>2</td></tr><tr><td>IN</td><td>3</td></tr><tr><td>MA</td><td>1</td></tr><tr><td>JA</td><td>1</td></tr></tbody></table></div>"
      ]
     },
     "metadata": {
      "application/vnd.databricks.v1+output": {
       "addedWidgets": {},
       "aggData": [],
       "aggError": "",
       "aggOverflow": false,
       "aggSchema": [],
       "aggSeriesLimitReached": false,
       "aggType": "",
       "arguments": {},
       "columnCustomDisplayInfos": {},
       "data": [
        [
         "CN",
         1
        ],
        [
         "SA",
         2
        ],
        [
         "MY",
         2
        ],
        [
         "IN",
         3
        ],
        [
         "MA",
         1
        ],
        [
         "JA",
         1
        ]
       ],
       "datasetInfos": [],
       "dbfsResultPath": null,
       "isJsonSchema": true,
       "metadata": {},
       "overflow": false,
       "plotOptions": {
        "customPlotOptions": {},
        "displayType": "table",
        "pivotAggregation": null,
        "pivotColumns": null,
        "xColumns": null,
        "yColumns": null
       },
       "removedWidgets": [],
       "schema": [
        {
         "metadata": "{}",
         "name": "country",
         "type": "\"string\""
        },
        {
         "metadata": "{}",
         "name": "count",
         "type": "\"long\""
        }
       ],
       "type": "table"
      }
     },
     "output_type": "display_data"
    }
   ],
   "source": [
    "display(delta_df.groupBy(\"country\").count())"
   ]
  },
  {
   "cell_type": "code",
   "execution_count": 0,
   "metadata": {
    "application/vnd.databricks.v1+cell": {
     "cellMetadata": {
      "byteLimit": 2048000,
      "rowLimit": 10000
     },
     "inputWidgets": {},
     "nuid": "4595e085-b864-46b8-9219-8125a7cd7a32",
     "showTitle": true,
     "title": "declaring schema and path of csv stored in source_to_bronze"
    }
   },
   "outputs": [],
   "source": [
    "country_path_read='dbfs:/FileStore/assignments/assign_1/source_to_bronze/country_df.csv/part-00000-tid-2429375358653570560-a09a881c-cda1-4428-be38-29a720a67fe8-317-1-c000.csv'\n",
    "country_schema=StructType([\n",
    "    StructField(\"countryCode\",StringType(),True),\n",
    "    StructField(\"countryName\",StringType(),True)\n",
    "])\n",
    "department_path_read='dbfs:/FileStore/assignments/assign_1/source_to_bronze/department_df.csv/part-00000-tid-826393801858667356-6bf8e7e8-db95-4ea3-978c-de0c431bcb79-318-1-c000.csv'\n",
    "department_schema=StructType([\n",
    "    StructField(\"departmentId\",StringType(),True),\n",
    "    StructField(\"departmentName\",StringType(),True)\n",
    "])\n",
    "employee_path='dbfs:/FileStore/assignments/assign_1/source_to_bronze/employee_df.csv/part-00000-tid-8958534801557983101-843e525b-d29c-4eeb-8f0d-87dcd37dad59-319-1-c000.csv'\n",
    "employee_schema=StructType([\n",
    "    StructField(\"employeeId\",IntegerType(),True),\n",
    "    StructField(\"employeeName\",StringType(),True),\n",
    "    StructField(\"department\",StringType(),True), \n",
    "    StructField(\"country\",StringType(),True),\n",
    "    StructField(\"salary\",IntegerType(),True),\n",
    "    StructField(\"age\",IntegerType(),True)\n",
    "])\n"
   ]
  },
  {
   "cell_type": "code",
   "execution_count": 0,
   "metadata": {
    "application/vnd.databricks.v1+cell": {
     "cellMetadata": {
      "byteLimit": 2048000,
      "rowLimit": 10000
     },
     "inputWidgets": {},
     "nuid": "c58b7d3e-fd42-4268-b3ef-117bb0d2ddf1",
     "showTitle": true,
     "title": "creating df by reading csv"
    }
   },
   "outputs": [
    {
     "output_type": "display_data",
     "data": {
      "text/html": [
       "<style scoped>\n",
       "  .table-result-container {\n",
       "    max-height: 300px;\n",
       "    overflow: auto;\n",
       "  }\n",
       "  table, th, td {\n",
       "    border: 1px solid black;\n",
       "    border-collapse: collapse;\n",
       "  }\n",
       "  th, td {\n",
       "    padding: 5px;\n",
       "  }\n",
       "  th {\n",
       "    text-align: left;\n",
       "  }\n",
       "</style><div class='table-result-container'><table class='table-result'><thead style='background-color: white'><tr><th>countryCode</th><th>countryName</th></tr></thead><tbody><tr><td>CN</td><td>China</td></tr><tr><td>IN</td><td>India</td></tr><tr><td>SA</td><td>South Africa</td></tr><tr><td>JA</td><td>Japan</td></tr><tr><td>MY</td><td>Malaysia</td></tr><tr><td>MA</td><td>Morocco</td></tr></tbody></table></div>"
      ]
     },
     "metadata": {
      "application/vnd.databricks.v1+output": {
       "addedWidgets": {},
       "aggData": [],
       "aggError": "",
       "aggOverflow": false,
       "aggSchema": [],
       "aggSeriesLimitReached": false,
       "aggType": "",
       "arguments": {},
       "columnCustomDisplayInfos": {},
       "data": [
        [
         "CN",
         "China"
        ],
        [
         "IN",
         "India"
        ],
        [
         "SA",
         "South Africa"
        ],
        [
         "JA",
         "Japan"
        ],
        [
         "MY",
         "Malaysia"
        ],
        [
         "MA",
         "Morocco"
        ]
       ],
       "datasetInfos": [],
       "dbfsResultPath": null,
       "isJsonSchema": true,
       "metadata": {},
       "overflow": false,
       "plotOptions": {
        "customPlotOptions": {},
        "displayType": "table",
        "pivotAggregation": null,
        "pivotColumns": null,
        "xColumns": null,
        "yColumns": null
       },
       "removedWidgets": [],
       "schema": [
        {
         "metadata": "{}",
         "name": "countryCode",
         "type": "\"string\""
        },
        {
         "metadata": "{}",
         "name": "countryName",
         "type": "\"string\""
        }
       ],
       "type": "table"
      }
     },
     "output_type": "display_data"
    },
    {
     "output_type": "display_data",
     "data": {
      "text/html": [
       "<style scoped>\n",
       "  .table-result-container {\n",
       "    max-height: 300px;\n",
       "    overflow: auto;\n",
       "  }\n",
       "  table, th, td {\n",
       "    border: 1px solid black;\n",
       "    border-collapse: collapse;\n",
       "  }\n",
       "  th, td {\n",
       "    padding: 5px;\n",
       "  }\n",
       "  th {\n",
       "    text-align: left;\n",
       "  }\n",
       "</style><div class='table-result-container'><table class='table-result'><thead style='background-color: white'><tr><th>departmentId</th><th>departmentName</th></tr></thead><tbody><tr><td>D101</td><td>Sales</td></tr><tr><td>D102</td><td>Marketing</td></tr><tr><td>D103</td><td>Finance</td></tr><tr><td>D104</td><td>Support</td></tr><tr><td>D105</td><td>HR</td></tr></tbody></table></div>"
      ]
     },
     "metadata": {
      "application/vnd.databricks.v1+output": {
       "addedWidgets": {},
       "aggData": [],
       "aggError": "",
       "aggOverflow": false,
       "aggSchema": [],
       "aggSeriesLimitReached": false,
       "aggType": "",
       "arguments": {},
       "columnCustomDisplayInfos": {},
       "data": [
        [
         "D101",
         "Sales"
        ],
        [
         "D102",
         "Marketing"
        ],
        [
         "D103",
         "Finance"
        ],
        [
         "D104",
         "Support"
        ],
        [
         "D105",
         "HR"
        ]
       ],
       "datasetInfos": [],
       "dbfsResultPath": null,
       "isJsonSchema": true,
       "metadata": {},
       "overflow": false,
       "plotOptions": {
        "customPlotOptions": {},
        "displayType": "table",
        "pivotAggregation": null,
        "pivotColumns": null,
        "xColumns": null,
        "yColumns": null
       },
       "removedWidgets": [],
       "schema": [
        {
         "metadata": "{}",
         "name": "departmentId",
         "type": "\"string\""
        },
        {
         "metadata": "{}",
         "name": "departmentName",
         "type": "\"string\""
        }
       ],
       "type": "table"
      }
     },
     "output_type": "display_data"
    },
    {
     "output_type": "display_data",
     "data": {
      "text/html": [
       "<style scoped>\n",
       "  .table-result-container {\n",
       "    max-height: 300px;\n",
       "    overflow: auto;\n",
       "  }\n",
       "  table, th, td {\n",
       "    border: 1px solid black;\n",
       "    border-collapse: collapse;\n",
       "  }\n",
       "  th, td {\n",
       "    padding: 5px;\n",
       "  }\n",
       "  th {\n",
       "    text-align: left;\n",
       "  }\n",
       "</style><div class='table-result-container'><table class='table-result'><thead style='background-color: white'><tr><th>employeeId</th><th>employeeName</th><th>department</th><th>country</th><th>salary</th><th>age</th></tr></thead><tbody><tr><td>1</td><td>James</td><td>D101</td><td>IN</td><td>9000</td><td>25</td></tr><tr><td>2</td><td>Michel</td><td>D102</td><td>SA</td><td>8000</td><td>26</td></tr><tr><td>3</td><td>James son</td><td>D101</td><td>IN</td><td>10000</td><td>35</td></tr><tr><td>4</td><td>Robert</td><td>D103</td><td>MY</td><td>11000</td><td>34</td></tr><tr><td>5</td><td>Scott</td><td>D104</td><td>MA</td><td>6000</td><td>36</td></tr><tr><td>6</td><td>Gen</td><td>D105</td><td>JA</td><td>21345</td><td>24</td></tr><tr><td>7</td><td>John</td><td>D102</td><td>MY</td><td>87654</td><td>40</td></tr><tr><td>8</td><td>Maria</td><td>D105</td><td>SA</td><td>38144</td><td>38</td></tr><tr><td>9</td><td>Soffy</td><td>D103</td><td>IN</td><td>23456</td><td>29</td></tr><tr><td>10</td><td>Amy</td><td>D103</td><td>CN</td><td>21345</td><td>24</td></tr></tbody></table></div>"
      ]
     },
     "metadata": {
      "application/vnd.databricks.v1+output": {
       "addedWidgets": {},
       "aggData": [],
       "aggError": "",
       "aggOverflow": false,
       "aggSchema": [],
       "aggSeriesLimitReached": false,
       "aggType": "",
       "arguments": {},
       "columnCustomDisplayInfos": {},
       "data": [
        [
         1,
         "James",
         "D101",
         "IN",
         9000,
         25
        ],
        [
         2,
         "Michel",
         "D102",
         "SA",
         8000,
         26
        ],
        [
         3,
         "James son",
         "D101",
         "IN",
         10000,
         35
        ],
        [
         4,
         "Robert",
         "D103",
         "MY",
         11000,
         34
        ],
        [
         5,
         "Scott",
         "D104",
         "MA",
         6000,
         36
        ],
        [
         6,
         "Gen",
         "D105",
         "JA",
         21345,
         24
        ],
        [
         7,
         "John",
         "D102",
         "MY",
         87654,
         40
        ],
        [
         8,
         "Maria",
         "D105",
         "SA",
         38144,
         38
        ],
        [
         9,
         "Soffy",
         "D103",
         "IN",
         23456,
         29
        ],
        [
         10,
         "Amy",
         "D103",
         "CN",
         21345,
         24
        ]
       ],
       "datasetInfos": [],
       "dbfsResultPath": null,
       "isJsonSchema": true,
       "metadata": {},
       "overflow": false,
       "plotOptions": {
        "customPlotOptions": {},
        "displayType": "table",
        "pivotAggregation": null,
        "pivotColumns": null,
        "xColumns": null,
        "yColumns": null
       },
       "removedWidgets": [],
       "schema": [
        {
         "metadata": "{}",
         "name": "employeeId",
         "type": "\"integer\""
        },
        {
         "metadata": "{}",
         "name": "employeeName",
         "type": "\"string\""
        },
        {
         "metadata": "{}",
         "name": "department",
         "type": "\"string\""
        },
        {
         "metadata": "{}",
         "name": "country",
         "type": "\"string\""
        },
        {
         "metadata": "{}",
         "name": "salary",
         "type": "\"integer\""
        },
        {
         "metadata": "{}",
         "name": "age",
         "type": "\"integer\""
        }
       ],
       "type": "table"
      }
     },
     "output_type": "display_data"
    }
   ],
   "source": [
    "country_df=read_schema(country_path_read,country_schema)\n",
    "department_df=read_schema(department_path_read,department_schema)\n",
    "employee_df=read_schema(employee_path,employee_schema)\n",
    "\n",
    "\n",
    "country_df.display()\n",
    "department_df.display()\n",
    "employee_df.display()"
   ]
  },
  {
   "cell_type": "code",
   "execution_count": 0,
   "metadata": {
    "application/vnd.databricks.v1+cell": {
     "cellMetadata": {
      "byteLimit": 2048000,
      "rowLimit": 10000
     },
     "inputWidgets": {},
     "nuid": "04ef1b1b-aa7e-4058-a814-5bf065d98c22",
     "showTitle": true,
     "title": "List the department names along with their corresponding country names."
    }
   },
   "outputs": [
    {
     "output_type": "display_data",
     "data": {
      "text/html": [
       "<style scoped>\n",
       "  .table-result-container {\n",
       "    max-height: 300px;\n",
       "    overflow: auto;\n",
       "  }\n",
       "  table, th, td {\n",
       "    border: 1px solid black;\n",
       "    border-collapse: collapse;\n",
       "  }\n",
       "  th, td {\n",
       "    padding: 5px;\n",
       "  }\n",
       "  th {\n",
       "    text-align: left;\n",
       "  }\n",
       "</style><div class='table-result-container'><table class='table-result'><thead style='background-color: white'><tr><th>departmentName</th><th>countryName</th></tr></thead><tbody><tr><td>Finance</td><td>Malaysia</td></tr><tr><td>Finance</td><td>India</td></tr><tr><td>Finance</td><td>China</td></tr><tr><td>HR</td><td>Japan</td></tr><tr><td>HR</td><td>South Africa</td></tr><tr><td>Marketing</td><td>South Africa</td></tr><tr><td>Marketing</td><td>Malaysia</td></tr><tr><td>Sales</td><td>India</td></tr><tr><td>Sales</td><td>India</td></tr><tr><td>Support</td><td>Morocco</td></tr></tbody></table></div>"
      ]
     },
     "metadata": {
      "application/vnd.databricks.v1+output": {
       "addedWidgets": {},
       "aggData": [],
       "aggError": "",
       "aggOverflow": false,
       "aggSchema": [],
       "aggSeriesLimitReached": false,
       "aggType": "",
       "arguments": {},
       "columnCustomDisplayInfos": {},
       "data": [
        [
         "Finance",
         "Malaysia"
        ],
        [
         "Finance",
         "India"
        ],
        [
         "Finance",
         "China"
        ],
        [
         "HR",
         "Japan"
        ],
        [
         "HR",
         "South Africa"
        ],
        [
         "Marketing",
         "South Africa"
        ],
        [
         "Marketing",
         "Malaysia"
        ],
        [
         "Sales",
         "India"
        ],
        [
         "Sales",
         "India"
        ],
        [
         "Support",
         "Morocco"
        ]
       ],
       "datasetInfos": [],
       "dbfsResultPath": null,
       "isJsonSchema": true,
       "metadata": {},
       "overflow": false,
       "plotOptions": {
        "customPlotOptions": {},
        "displayType": "table",
        "pivotAggregation": null,
        "pivotColumns": null,
        "xColumns": null,
        "yColumns": null
       },
       "removedWidgets": [],
       "schema": [
        {
         "metadata": "{}",
         "name": "departmentName",
         "type": "\"string\""
        },
        {
         "metadata": "{}",
         "name": "countryName",
         "type": "\"string\""
        }
       ],
       "type": "table"
      }
     },
     "output_type": "display_data"
    }
   ],
   "source": [
    "df1=df_joins(employee_df,country_df,department_df)\n",
    "display(df1.orderBy('departmentName'))"
   ]
  },
  {
   "cell_type": "code",
   "execution_count": 0,
   "metadata": {
    "application/vnd.databricks.v1+cell": {
     "cellMetadata": {
      "byteLimit": 2048000,
      "rowLimit": 10000
     },
     "inputWidgets": {},
     "nuid": "e1ecfe78-3b7a-4b71-a13e-2d3331b37163",
     "showTitle": true,
     "title": "average age of employees in each department"
    }
   },
   "outputs": [
    {
     "output_type": "display_data",
     "data": {
      "text/html": [
       "<style scoped>\n",
       "  .table-result-container {\n",
       "    max-height: 300px;\n",
       "    overflow: auto;\n",
       "  }\n",
       "  table, th, td {\n",
       "    border: 1px solid black;\n",
       "    border-collapse: collapse;\n",
       "  }\n",
       "  th, td {\n",
       "    padding: 5px;\n",
       "  }\n",
       "  th {\n",
       "    text-align: left;\n",
       "  }\n",
       "</style><div class='table-result-container'><table class='table-result'><thead style='background-color: white'><tr><th>department</th><th>avg_age</th><th>age</th></tr></thead><tbody><tr><td>D101</td><td>30.0</td><td>25</td></tr><tr><td>D101</td><td>30.0</td><td>35</td></tr><tr><td>D102</td><td>33.0</td><td>26</td></tr><tr><td>D102</td><td>33.0</td><td>40</td></tr><tr><td>D103</td><td>29.0</td><td>34</td></tr><tr><td>D103</td><td>29.0</td><td>29</td></tr><tr><td>D103</td><td>29.0</td><td>24</td></tr><tr><td>D104</td><td>36.0</td><td>36</td></tr><tr><td>D105</td><td>31.0</td><td>24</td></tr><tr><td>D105</td><td>31.0</td><td>38</td></tr></tbody></table></div>"
      ]
     },
     "metadata": {
      "application/vnd.databricks.v1+output": {
       "addedWidgets": {},
       "aggData": [],
       "aggError": "",
       "aggOverflow": false,
       "aggSchema": [],
       "aggSeriesLimitReached": false,
       "aggType": "",
       "arguments": {},
       "columnCustomDisplayInfos": {},
       "data": [
        [
         "D101",
         30.0,
         25
        ],
        [
         "D101",
         30.0,
         35
        ],
        [
         "D102",
         33.0,
         26
        ],
        [
         "D102",
         33.0,
         40
        ],
        [
         "D103",
         29.0,
         34
        ],
        [
         "D103",
         29.0,
         29
        ],
        [
         "D103",
         29.0,
         24
        ],
        [
         "D104",
         36.0,
         36
        ],
        [
         "D105",
         31.0,
         24
        ],
        [
         "D105",
         31.0,
         38
        ]
       ],
       "datasetInfos": [],
       "dbfsResultPath": null,
       "isJsonSchema": true,
       "metadata": {},
       "overflow": false,
       "plotOptions": {
        "customPlotOptions": {},
        "displayType": "table",
        "pivotAggregation": null,
        "pivotColumns": null,
        "xColumns": null,
        "yColumns": null
       },
       "removedWidgets": [],
       "schema": [
        {
         "metadata": "{}",
         "name": "department",
         "type": "\"string\""
        },
        {
         "metadata": "{}",
         "name": "avg_age",
         "type": "\"double\""
        },
        {
         "metadata": "{}",
         "name": "age",
         "type": "\"integer\""
        }
       ],
       "type": "table"
      }
     },
     "output_type": "display_data"
    }
   ],
   "source": [
    "display(find_avg(delta_df,Window))"
   ]
  },
  {
   "cell_type": "code",
   "execution_count": 0,
   "metadata": {
    "application/vnd.databricks.v1+cell": {
     "cellMetadata": {
      "byteLimit": 2048000,
      "rowLimit": 10000
     },
     "inputWidgets": {},
     "nuid": "9387d516-b92b-4775-99da-8b1d674fe00c",
     "showTitle": true,
     "title": "Add the at_load_date column to data frames"
    }
   },
   "outputs": [
    {
     "output_type": "display_data",
     "data": {
      "text/html": [
       "<style scoped>\n",
       "  .table-result-container {\n",
       "    max-height: 300px;\n",
       "    overflow: auto;\n",
       "  }\n",
       "  table, th, td {\n",
       "    border: 1px solid black;\n",
       "    border-collapse: collapse;\n",
       "  }\n",
       "  th, td {\n",
       "    padding: 5px;\n",
       "  }\n",
       "  th {\n",
       "    text-align: left;\n",
       "  }\n",
       "</style><div class='table-result-container'><table class='table-result'><thead style='background-color: white'><tr><th>countryCode</th><th>countryName</th><th>at_load_data</th></tr></thead><tbody><tr><td>CN</td><td>China</td><td>2024-04-16</td></tr><tr><td>IN</td><td>India</td><td>2024-04-16</td></tr><tr><td>SA</td><td>South Africa</td><td>2024-04-16</td></tr><tr><td>JA</td><td>Japan</td><td>2024-04-16</td></tr><tr><td>MY</td><td>Malaysia</td><td>2024-04-16</td></tr><tr><td>MA</td><td>Morocco</td><td>2024-04-16</td></tr></tbody></table></div>"
      ]
     },
     "metadata": {
      "application/vnd.databricks.v1+output": {
       "addedWidgets": {},
       "aggData": [],
       "aggError": "",
       "aggOverflow": false,
       "aggSchema": [],
       "aggSeriesLimitReached": false,
       "aggType": "",
       "arguments": {},
       "columnCustomDisplayInfos": {},
       "data": [
        [
         "CN",
         "China",
         "2024-04-16"
        ],
        [
         "IN",
         "India",
         "2024-04-16"
        ],
        [
         "SA",
         "South Africa",
         "2024-04-16"
        ],
        [
         "JA",
         "Japan",
         "2024-04-16"
        ],
        [
         "MY",
         "Malaysia",
         "2024-04-16"
        ],
        [
         "MA",
         "Morocco",
         "2024-04-16"
        ]
       ],
       "datasetInfos": [],
       "dbfsResultPath": null,
       "isJsonSchema": true,
       "metadata": {},
       "overflow": false,
       "plotOptions": {
        "customPlotOptions": {},
        "displayType": "table",
        "pivotAggregation": null,
        "pivotColumns": null,
        "xColumns": null,
        "yColumns": null
       },
       "removedWidgets": [],
       "schema": [
        {
         "metadata": "{}",
         "name": "countryCode",
         "type": "\"string\""
        },
        {
         "metadata": "{}",
         "name": "countryName",
         "type": "\"string\""
        },
        {
         "metadata": "{}",
         "name": "at_load_data",
         "type": "\"date\""
        }
       ],
       "type": "table"
      }
     },
     "output_type": "display_data"
    },
    {
     "output_type": "display_data",
     "data": {
      "text/html": [
       "<style scoped>\n",
       "  .table-result-container {\n",
       "    max-height: 300px;\n",
       "    overflow: auto;\n",
       "  }\n",
       "  table, th, td {\n",
       "    border: 1px solid black;\n",
       "    border-collapse: collapse;\n",
       "  }\n",
       "  th, td {\n",
       "    padding: 5px;\n",
       "  }\n",
       "  th {\n",
       "    text-align: left;\n",
       "  }\n",
       "</style><div class='table-result-container'><table class='table-result'><thead style='background-color: white'><tr><th>departmentId</th><th>departmentName</th><th>at_load_data</th></tr></thead><tbody><tr><td>D101</td><td>Sales</td><td>2024-04-16</td></tr><tr><td>D102</td><td>Marketing</td><td>2024-04-16</td></tr><tr><td>D103</td><td>Finance</td><td>2024-04-16</td></tr><tr><td>D104</td><td>Support</td><td>2024-04-16</td></tr><tr><td>D105</td><td>HR</td><td>2024-04-16</td></tr></tbody></table></div>"
      ]
     },
     "metadata": {
      "application/vnd.databricks.v1+output": {
       "addedWidgets": {},
       "aggData": [],
       "aggError": "",
       "aggOverflow": false,
       "aggSchema": [],
       "aggSeriesLimitReached": false,
       "aggType": "",
       "arguments": {},
       "columnCustomDisplayInfos": {},
       "data": [
        [
         "D101",
         "Sales",
         "2024-04-16"
        ],
        [
         "D102",
         "Marketing",
         "2024-04-16"
        ],
        [
         "D103",
         "Finance",
         "2024-04-16"
        ],
        [
         "D104",
         "Support",
         "2024-04-16"
        ],
        [
         "D105",
         "HR",
         "2024-04-16"
        ]
       ],
       "datasetInfos": [],
       "dbfsResultPath": null,
       "isJsonSchema": true,
       "metadata": {},
       "overflow": false,
       "plotOptions": {
        "customPlotOptions": {},
        "displayType": "table",
        "pivotAggregation": null,
        "pivotColumns": null,
        "xColumns": null,
        "yColumns": null
       },
       "removedWidgets": [],
       "schema": [
        {
         "metadata": "{}",
         "name": "departmentId",
         "type": "\"string\""
        },
        {
         "metadata": "{}",
         "name": "departmentName",
         "type": "\"string\""
        },
        {
         "metadata": "{}",
         "name": "at_load_data",
         "type": "\"date\""
        }
       ],
       "type": "table"
      }
     },
     "output_type": "display_data"
    },
    {
     "output_type": "display_data",
     "data": {
      "text/html": [
       "<style scoped>\n",
       "  .table-result-container {\n",
       "    max-height: 300px;\n",
       "    overflow: auto;\n",
       "  }\n",
       "  table, th, td {\n",
       "    border: 1px solid black;\n",
       "    border-collapse: collapse;\n",
       "  }\n",
       "  th, td {\n",
       "    padding: 5px;\n",
       "  }\n",
       "  th {\n",
       "    text-align: left;\n",
       "  }\n",
       "</style><div class='table-result-container'><table class='table-result'><thead style='background-color: white'><tr><th>employeeId</th><th>employeeName</th><th>department</th><th>country</th><th>salary</th><th>age</th><th>at_load_data</th></tr></thead><tbody><tr><td>1</td><td>James</td><td>D101</td><td>IN</td><td>9000</td><td>25</td><td>2024-04-16</td></tr><tr><td>2</td><td>Michel</td><td>D102</td><td>SA</td><td>8000</td><td>26</td><td>2024-04-16</td></tr><tr><td>3</td><td>James son</td><td>D101</td><td>IN</td><td>10000</td><td>35</td><td>2024-04-16</td></tr><tr><td>4</td><td>Robert</td><td>D103</td><td>MY</td><td>11000</td><td>34</td><td>2024-04-16</td></tr><tr><td>5</td><td>Scott</td><td>D104</td><td>MA</td><td>6000</td><td>36</td><td>2024-04-16</td></tr><tr><td>6</td><td>Gen</td><td>D105</td><td>JA</td><td>21345</td><td>24</td><td>2024-04-16</td></tr><tr><td>7</td><td>John</td><td>D102</td><td>MY</td><td>87654</td><td>40</td><td>2024-04-16</td></tr><tr><td>8</td><td>Maria</td><td>D105</td><td>SA</td><td>38144</td><td>38</td><td>2024-04-16</td></tr><tr><td>9</td><td>Soffy</td><td>D103</td><td>IN</td><td>23456</td><td>29</td><td>2024-04-16</td></tr><tr><td>10</td><td>Amy</td><td>D103</td><td>CN</td><td>21345</td><td>24</td><td>2024-04-16</td></tr></tbody></table></div>"
      ]
     },
     "metadata": {
      "application/vnd.databricks.v1+output": {
       "addedWidgets": {},
       "aggData": [],
       "aggError": "",
       "aggOverflow": false,
       "aggSchema": [],
       "aggSeriesLimitReached": false,
       "aggType": "",
       "arguments": {},
       "columnCustomDisplayInfos": {},
       "data": [
        [
         1,
         "James",
         "D101",
         "IN",
         9000,
         25,
         "2024-04-16"
        ],
        [
         2,
         "Michel",
         "D102",
         "SA",
         8000,
         26,
         "2024-04-16"
        ],
        [
         3,
         "James son",
         "D101",
         "IN",
         10000,
         35,
         "2024-04-16"
        ],
        [
         4,
         "Robert",
         "D103",
         "MY",
         11000,
         34,
         "2024-04-16"
        ],
        [
         5,
         "Scott",
         "D104",
         "MA",
         6000,
         36,
         "2024-04-16"
        ],
        [
         6,
         "Gen",
         "D105",
         "JA",
         21345,
         24,
         "2024-04-16"
        ],
        [
         7,
         "John",
         "D102",
         "MY",
         87654,
         40,
         "2024-04-16"
        ],
        [
         8,
         "Maria",
         "D105",
         "SA",
         38144,
         38,
         "2024-04-16"
        ],
        [
         9,
         "Soffy",
         "D103",
         "IN",
         23456,
         29,
         "2024-04-16"
        ],
        [
         10,
         "Amy",
         "D103",
         "CN",
         21345,
         24,
         "2024-04-16"
        ]
       ],
       "datasetInfos": [],
       "dbfsResultPath": null,
       "isJsonSchema": true,
       "metadata": {},
       "overflow": false,
       "plotOptions": {
        "customPlotOptions": {},
        "displayType": "table",
        "pivotAggregation": null,
        "pivotColumns": null,
        "xColumns": null,
        "yColumns": null
       },
       "removedWidgets": [],
       "schema": [
        {
         "metadata": "{}",
         "name": "employeeId",
         "type": "\"integer\""
        },
        {
         "metadata": "{}",
         "name": "employeeName",
         "type": "\"string\""
        },
        {
         "metadata": "{}",
         "name": "department",
         "type": "\"string\""
        },
        {
         "metadata": "{}",
         "name": "country",
         "type": "\"string\""
        },
        {
         "metadata": "{}",
         "name": "salary",
         "type": "\"integer\""
        },
        {
         "metadata": "{}",
         "name": "age",
         "type": "\"integer\""
        },
        {
         "metadata": "{}",
         "name": "at_load_data",
         "type": "\"date\""
        }
       ],
       "type": "table"
      }
     },
     "output_type": "display_data"
    }
   ],
   "source": [
    "col_name=\"at_load_data\"\n",
    "country_df_date=add_load_data(country_df,col_name)\n",
    "department_df_date=add_load_data(department_df,col_name)\n",
    "employee_df_date=add_load_data(employee_df,col_name)\n",
    "\n",
    "country_df_date.display()\n",
    "department_df_date.display()\n",
    "employee_df_date.display()"
   ]
  },
  {
   "cell_type": "code",
   "execution_count": 0,
   "metadata": {
    "application/vnd.databricks.v1+cell": {
     "cellMetadata": {
      "byteLimit": 2048000,
      "rowLimit": 10000
     },
     "inputWidgets": {},
     "nuid": "caf7c406-62f8-4a71-b1af-f38c3cbda355",
     "showTitle": true,
     "title": "Write employee df to dbfs"
    }
   },
   "outputs": [
    {
     "output_type": "display_data",
     "data": {
      "text/html": [
       "<style scoped>\n",
       "  .table-result-container {\n",
       "    max-height: 300px;\n",
       "    overflow: auto;\n",
       "  }\n",
       "  table, th, td {\n",
       "    border: 1px solid black;\n",
       "    border-collapse: collapse;\n",
       "  }\n",
       "  th, td {\n",
       "    padding: 5px;\n",
       "  }\n",
       "  th {\n",
       "    text-align: left;\n",
       "  }\n",
       "</style><div class='table-result-container'><table class='table-result'><thead style='background-color: white'><tr><th>employeeId</th><th>employeeName</th><th>department</th><th>country</th><th>salary</th><th>age</th><th>at_load_data</th></tr></thead><tbody><tr><td>1</td><td>James</td><td>D101</td><td>IN</td><td>9000</td><td>25</td><td>2024-04-16</td></tr><tr><td>2</td><td>Michel</td><td>D102</td><td>SA</td><td>8000</td><td>26</td><td>2024-04-16</td></tr><tr><td>3</td><td>James son</td><td>D101</td><td>IN</td><td>10000</td><td>35</td><td>2024-04-16</td></tr><tr><td>4</td><td>Robert</td><td>D103</td><td>MY</td><td>11000</td><td>34</td><td>2024-04-16</td></tr><tr><td>5</td><td>Scott</td><td>D104</td><td>MA</td><td>6000</td><td>36</td><td>2024-04-16</td></tr><tr><td>6</td><td>Gen</td><td>D105</td><td>JA</td><td>21345</td><td>24</td><td>2024-04-16</td></tr><tr><td>7</td><td>John</td><td>D102</td><td>MY</td><td>87654</td><td>40</td><td>2024-04-16</td></tr><tr><td>8</td><td>Maria</td><td>D105</td><td>SA</td><td>38144</td><td>38</td><td>2024-04-16</td></tr><tr><td>9</td><td>Soffy</td><td>D103</td><td>IN</td><td>23456</td><td>29</td><td>2024-04-16</td></tr><tr><td>10</td><td>Amy</td><td>D103</td><td>CN</td><td>21345</td><td>24</td><td>2024-04-16</td></tr></tbody></table></div>"
      ]
     },
     "metadata": {
      "application/vnd.databricks.v1+output": {
       "addedWidgets": {},
       "aggData": [],
       "aggError": "",
       "aggOverflow": false,
       "aggSchema": [],
       "aggSeriesLimitReached": false,
       "aggType": "",
       "arguments": {},
       "columnCustomDisplayInfos": {},
       "data": [
        [
         1,
         "James",
         "D101",
         "IN",
         9000,
         25,
         "2024-04-16"
        ],
        [
         2,
         "Michel",
         "D102",
         "SA",
         8000,
         26,
         "2024-04-16"
        ],
        [
         3,
         "James son",
         "D101",
         "IN",
         10000,
         35,
         "2024-04-16"
        ],
        [
         4,
         "Robert",
         "D103",
         "MY",
         11000,
         34,
         "2024-04-16"
        ],
        [
         5,
         "Scott",
         "D104",
         "MA",
         6000,
         36,
         "2024-04-16"
        ],
        [
         6,
         "Gen",
         "D105",
         "JA",
         21345,
         24,
         "2024-04-16"
        ],
        [
         7,
         "John",
         "D102",
         "MY",
         87654,
         40,
         "2024-04-16"
        ],
        [
         8,
         "Maria",
         "D105",
         "SA",
         38144,
         38,
         "2024-04-16"
        ],
        [
         9,
         "Soffy",
         "D103",
         "IN",
         23456,
         29,
         "2024-04-16"
        ],
        [
         10,
         "Amy",
         "D103",
         "CN",
         21345,
         24,
         "2024-04-16"
        ]
       ],
       "datasetInfos": [],
       "dbfsResultPath": null,
       "isJsonSchema": true,
       "metadata": {},
       "overflow": false,
       "plotOptions": {
        "customPlotOptions": {},
        "displayType": "table",
        "pivotAggregation": null,
        "pivotColumns": null,
        "xColumns": null,
        "yColumns": null
       },
       "removedWidgets": [],
       "schema": [
        {
         "metadata": "{}",
         "name": "employeeId",
         "type": "\"integer\""
        },
        {
         "metadata": "{}",
         "name": "employeeName",
         "type": "\"string\""
        },
        {
         "metadata": "{}",
         "name": "department",
         "type": "\"string\""
        },
        {
         "metadata": "{}",
         "name": "country",
         "type": "\"string\""
        },
        {
         "metadata": "{}",
         "name": "salary",
         "type": "\"integer\""
        },
        {
         "metadata": "{}",
         "name": "age",
         "type": "\"integer\""
        },
        {
         "metadata": "{}",
         "name": "at_load_data",
         "type": "\"date\""
        }
       ],
       "type": "table"
      }
     },
     "output_type": "display_data"
    }
   ],
   "source": [
    "folder='employee'\n",
    "table_name='fact_employee'\n",
    "df_name=employee_df_date\n",
    "\n",
    "path=f\"dbfs:/FileStore/assignments/assign_1/gold/{folder}/{table_name}\"\n",
    "\n",
    "write_df_gold(df_name,path)\n",
    "display(spark.read.format('delta').load(path)) "
   ]
  },
  {
   "cell_type": "code",
   "execution_count": 0,
   "metadata": {
    "application/vnd.databricks.v1+cell": {
     "cellMetadata": {
      "byteLimit": 2048000,
      "rowLimit": 10000
     },
     "inputWidgets": {},
     "nuid": "fa9e5b1b-7912-4de2-b4d5-32b6fd4416c2",
     "showTitle": true,
     "title": "Write country df to dbfs"
    }
   },
   "outputs": [
    {
     "output_type": "display_data",
     "data": {
      "text/html": [
       "<style scoped>\n",
       "  .table-result-container {\n",
       "    max-height: 300px;\n",
       "    overflow: auto;\n",
       "  }\n",
       "  table, th, td {\n",
       "    border: 1px solid black;\n",
       "    border-collapse: collapse;\n",
       "  }\n",
       "  th, td {\n",
       "    padding: 5px;\n",
       "  }\n",
       "  th {\n",
       "    text-align: left;\n",
       "  }\n",
       "</style><div class='table-result-container'><table class='table-result'><thead style='background-color: white'><tr><th>countryCode</th><th>countryName</th><th>at_load_data</th></tr></thead><tbody><tr><td>CN</td><td>China</td><td>2024-04-16</td></tr><tr><td>IN</td><td>India</td><td>2024-04-16</td></tr><tr><td>SA</td><td>South Africa</td><td>2024-04-16</td></tr><tr><td>JA</td><td>Japan</td><td>2024-04-16</td></tr><tr><td>MY</td><td>Malaysia</td><td>2024-04-16</td></tr><tr><td>MA</td><td>Morocco</td><td>2024-04-16</td></tr></tbody></table></div>"
      ]
     },
     "metadata": {
      "application/vnd.databricks.v1+output": {
       "addedWidgets": {},
       "aggData": [],
       "aggError": "",
       "aggOverflow": false,
       "aggSchema": [],
       "aggSeriesLimitReached": false,
       "aggType": "",
       "arguments": {},
       "columnCustomDisplayInfos": {},
       "data": [
        [
         "CN",
         "China",
         "2024-04-16"
        ],
        [
         "IN",
         "India",
         "2024-04-16"
        ],
        [
         "SA",
         "South Africa",
         "2024-04-16"
        ],
        [
         "JA",
         "Japan",
         "2024-04-16"
        ],
        [
         "MY",
         "Malaysia",
         "2024-04-16"
        ],
        [
         "MA",
         "Morocco",
         "2024-04-16"
        ]
       ],
       "datasetInfos": [],
       "dbfsResultPath": null,
       "isJsonSchema": true,
       "metadata": {},
       "overflow": false,
       "plotOptions": {
        "customPlotOptions": {},
        "displayType": "table",
        "pivotAggregation": null,
        "pivotColumns": null,
        "xColumns": null,
        "yColumns": null
       },
       "removedWidgets": [],
       "schema": [
        {
         "metadata": "{}",
         "name": "countryCode",
         "type": "\"string\""
        },
        {
         "metadata": "{}",
         "name": "countryName",
         "type": "\"string\""
        },
        {
         "metadata": "{}",
         "name": "at_load_data",
         "type": "\"date\""
        }
       ],
       "type": "table"
      }
     },
     "output_type": "display_data"
    }
   ],
   "source": [
    "folder='country'\n",
    "table_name='fact_country'\n",
    "df_name=country_df_date\n",
    "\n",
    "path=f\"dbfs:/FileStore/assignments/assign_1/gold/{folder}/{table_name}\"\n",
    "\n",
    "write_df_gold(df_name,path)\n",
    "display(spark.read.format('delta').load(path)) "
   ]
  },
  {
   "cell_type": "code",
   "execution_count": 0,
   "metadata": {
    "application/vnd.databricks.v1+cell": {
     "cellMetadata": {
      "byteLimit": 2048000,
      "rowLimit": 10000
     },
     "inputWidgets": {},
     "nuid": "830c5a1d-d2ba-43f3-b2e3-65b374f846d4",
     "showTitle": true,
     "title": "Write department df to dbfs"
    }
   },
   "outputs": [
    {
     "output_type": "display_data",
     "data": {
      "text/html": [
       "<style scoped>\n",
       "  .table-result-container {\n",
       "    max-height: 300px;\n",
       "    overflow: auto;\n",
       "  }\n",
       "  table, th, td {\n",
       "    border: 1px solid black;\n",
       "    border-collapse: collapse;\n",
       "  }\n",
       "  th, td {\n",
       "    padding: 5px;\n",
       "  }\n",
       "  th {\n",
       "    text-align: left;\n",
       "  }\n",
       "</style><div class='table-result-container'><table class='table-result'><thead style='background-color: white'><tr><th>departmentId</th><th>departmentName</th><th>at_load_data</th></tr></thead><tbody><tr><td>D101</td><td>Sales</td><td>2024-04-16</td></tr><tr><td>D102</td><td>Marketing</td><td>2024-04-16</td></tr><tr><td>D103</td><td>Finance</td><td>2024-04-16</td></tr><tr><td>D104</td><td>Support</td><td>2024-04-16</td></tr><tr><td>D105</td><td>HR</td><td>2024-04-16</td></tr></tbody></table></div>"
      ]
     },
     "metadata": {
      "application/vnd.databricks.v1+output": {
       "addedWidgets": {},
       "aggData": [],
       "aggError": "",
       "aggOverflow": false,
       "aggSchema": [],
       "aggSeriesLimitReached": false,
       "aggType": "",
       "arguments": {},
       "columnCustomDisplayInfos": {},
       "data": [
        [
         "D101",
         "Sales",
         "2024-04-16"
        ],
        [
         "D102",
         "Marketing",
         "2024-04-16"
        ],
        [
         "D103",
         "Finance",
         "2024-04-16"
        ],
        [
         "D104",
         "Support",
         "2024-04-16"
        ],
        [
         "D105",
         "HR",
         "2024-04-16"
        ]
       ],
       "datasetInfos": [],
       "dbfsResultPath": null,
       "isJsonSchema": true,
       "metadata": {},
       "overflow": false,
       "plotOptions": {
        "customPlotOptions": {},
        "displayType": "table",
        "pivotAggregation": null,
        "pivotColumns": null,
        "xColumns": null,
        "yColumns": null
       },
       "removedWidgets": [],
       "schema": [
        {
         "metadata": "{}",
         "name": "departmentId",
         "type": "\"string\""
        },
        {
         "metadata": "{}",
         "name": "departmentName",
         "type": "\"string\""
        },
        {
         "metadata": "{}",
         "name": "at_load_data",
         "type": "\"date\""
        }
       ],
       "type": "table"
      }
     },
     "output_type": "display_data"
    }
   ],
   "source": [
    "folder='department'\n",
    "table_name='fact_department'\n",
    "df_name=department_df_date\n",
    "\n",
    "path=f\"dbfs:/FileStore/assignments/assign_1/gold/{folder}/{table_name}\"\n",
    "\n",
    "write_df_gold(df_name,path)\n",
    "display(spark.read.format('delta').load(path)) "
   ]
  }
 ],
 "metadata": {
  "application/vnd.databricks.v1+notebook": {
   "dashboards": [],
   "language": "python",
   "notebookMetadata": {
    "mostRecentlyExecutedCommandWithImplicitDF": {
     "commandId": 2487117663128556,
     "dataframes": [
      "_sqldf"
     ]
    },
    "pythonIndentUnit": 4
   },
   "notebookName": "employee_silver_to_gold",
   "widgets": {}
  }
 },
 "nbformat": 4,
 "nbformat_minor": 0
}
